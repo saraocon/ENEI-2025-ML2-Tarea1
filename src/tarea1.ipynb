{
  "nbformat": 4,
  "nbformat_minor": 0,
  "metadata": {
    "colab": {
      "provenance": []
    },
    "kernelspec": {
      "name": "python3",
      "display_name": "Python 3"
    },
    "language_info": {
      "name": "python"
    }
  },
  "cells": [
    {
      "cell_type": "markdown",
      "source": [
        "# Part A: Binary Classification on Text Data"
      ],
      "metadata": {
        "id": "Js-d6Z_y4A0k"
      }
    },
    {
      "cell_type": "code",
      "execution_count": 2,
      "metadata": {
        "colab": {
          "base_uri": "https://localhost:8080/"
        },
        "id": "OkTt9ULFqV7M",
        "outputId": "8094d958-d4e3-4296-c91f-f080ad48871d"
      },
      "outputs": [
        {
          "output_type": "stream",
          "name": "stdout",
          "text": [
            "Porcentaje NO desastre (0): 57.03 %\n",
            "Porcentaje SÍ desastre (1): 42.97 %\n",
            "5329 train | 2284 test\n"
          ]
        }
      ],
      "source": [
        "import pandas as pd\n",
        "from sklearn.model_selection import train_test_split\n",
        "\n",
        "# cargar el csv\n",
        "df= pd.read_csv(\"https://raw.githubusercontent.com/RodrigoGrijalba/ENEI-2025-ML2-Tarea1/refs/heads/main/data/disaster_tweets.csv\")\n",
        "# porcentajes de clases (desastre vs no)\n",
        "clase = df[\"target\"].value_counts(normalize=True) * 100\n",
        "print(\"Porcentaje NO desastre (0):\", round(clase.get(0,0),2), \"%\")\n",
        "print(\"Porcentaje SÍ desastre (1):\", round(clase.get(1,0),2), \"%\")\n",
        "\n",
        "# definimos X (texto) e y (etiqueta)\n",
        "X = df[\"text\"].fillna(\"\")   # por si hay NaN\n",
        "y = df[\"target\"].astype(int)\n",
        "\n",
        "# split 70/30 con estratificación para mantener proporciones\n",
        "Xtr, Xte, ytr, yte = train_test_split(\n",
        "    X, y, test_size=0.30, random_state=42, stratify=y\n",
        ")\n",
        "\n",
        "print(len(Xtr), \"train |\", len(Xte), \"test\")\n"
      ]
    },
    {
      "cell_type": "code",
      "source": [
        "# 2. LIMPIEZA DE TEXTO\n",
        "import re\n",
        "import string\n",
        "\n",
        "\n",
        "url_pat = re.compile(r\"https?://\\S+\")\n",
        "user_pat = re.compile(r\"@\\w+\")\n",
        "\n",
        "def clean_text(s):\n",
        "    s = s.lower()\n",
        "    s = url_pat.sub(\" \", s)    # quita urls\n",
        "    s = user_pat.sub(\" \", s)   # quita @user\n",
        "    s = s.translate(str.maketrans(\"\", \"\", string.punctuation))  # quita puntuación\n",
        "    # tokens = s.split()\n",
        "    # # opcional: quitar stopwords\n",
        "    # tokens = [t for t in tokens if t not in sw]\n",
        "    # # opcional: lematizar\n",
        "    # tokens = [lem.lemmatize(t) for t in tokens]\n",
        "    # s = \" \".join(tokens)\n",
        "    return s\n",
        "\n",
        "Xtr_clean = Xtr.apply(clean_text)\n",
        "Xte_clean = Xte.apply(clean_text)\n"
      ],
      "metadata": {
        "id": "tHEyj8wLrOvh"
      },
      "execution_count": 3,
      "outputs": []
    },
    {
      "cell_type": "code",
      "source": [
        "# 3. BAG OF WORDS BINARIO\n",
        "from sklearn.feature_extraction.text import CountVectorizer\n",
        "\n",
        "M = 5  # umbral mínimo de documentos\n",
        "cv = CountVectorizer(binary=True, min_df=M)\n",
        "\n",
        "Xtr_bow = cv.fit_transform(Xtr_clean)   # fit SOLO en train\n",
        "Xte_bow = cv.transform(Xte_clean)       # test con el mismo cv\n",
        "\n",
        "vocab_size = len(cv.get_feature_names_out())\n",
        "print(\"Tamaño del vocabulario (unigramas):\", vocab_size)\n"
      ],
      "metadata": {
        "colab": {
          "base_uri": "https://localhost:8080/"
        },
        "id": "BUQWQDFhr5Fo",
        "outputId": "c13cef00-ba12-4714-cd16-80f8988a02eb"
      },
      "execution_count": 4,
      "outputs": [
        {
          "output_type": "stream",
          "name": "stdout",
          "text": [
            "Tamaño del vocabulario (unigramas): 2078\n"
          ]
        }
      ]
    },
    {
      "cell_type": "code",
      "source": [
        "# 4. LOGISTIC REGRESSION + F1 (corregido con penalty=None)\n",
        "from sklearn.linear_model import LogisticRegression\n",
        "from sklearn.metrics import f1_score\n",
        "from sklearn.model_selection import GridSearchCV\n",
        "import numpy as np\n",
        "\n",
        "def eval_lr(model, Xtr, ytr, Xte, yte, label=\"\"):\n",
        "    model.fit(Xtr, ytr)\n",
        "    f1_tr = f1_score(ytr, model.predict(Xtr))\n",
        "    f1_te = f1_score(yte, model.predict(Xte))\n",
        "    print(f\"{label} -> F1 train: {f1_tr:.3f} | F1 test: {f1_te:.3f}\")\n",
        "    return model, f1_tr, f1_te\n",
        "\n",
        "# a) Sin regularización (ojo: None, no 'none')\n",
        "lr_none = LogisticRegression(penalty=None, solver=\"lbfgs\", max_iter=2000)\n",
        "_ = eval_lr(lr_none, Xtr_bow, ytr, Xte_bow, yte, label=\"LR sin regularización\")\n",
        "\n",
        "# b) L1 con búsqueda de C (liblinear o saga para L1)\n",
        "lr_l1 = LogisticRegression(penalty=\"l1\", solver=\"liblinear\", max_iter=2000)\n",
        "grid_l1 = GridSearchCV(lr_l1, {\"C\":[0.01, 0.1, 1, 3, 10]}, scoring=\"f1\", cv=5, n_jobs=-1)\n",
        "best_l1 = grid_l1.fit(Xtr_bow, ytr).best_estimator_\n",
        "_ = eval_lr(best_l1, Xtr_bow, ytr, Xte_bow, yte, label=f\"LR L1 (C={best_l1.C})\")\n",
        "\n",
        "# c) L2 con búsqueda de C\n",
        "lr_l2 = LogisticRegression(penalty=\"l2\", solver=\"lbfgs\", max_iter=2000)\n",
        "grid_l2 = GridSearchCV(lr_l2, {\"C\":[0.01, 0.1, 1, 3, 10]}, scoring=\"f1\", cv=5, n_jobs=-1)\n",
        "best_l2 = grid_l2.fit(Xtr_bow, ytr).best_estimator_\n",
        "_ = eval_lr(best_l2, Xtr_bow, ytr, Xte_bow, yte, label=f\"LR L2 (C={best_l2.C})\")\n",
        "\n",
        "# d) Palabras más importantes (modelo L1)\n",
        "feat = cv.get_feature_names_out()\n",
        "w = best_l1.coef_.ravel()\n",
        "top_pos = np.argsort(w)[-15:][::-1]  # más asociadas a \"desastre\"\n",
        "top_neg = np.argsort(w)[:15]         # más asociadas a \"no desastre\"\n",
        "\n",
        "print(\"Top +:\", [feat[i] for i in top_pos])\n",
        "print(\"Top -:\", [feat[i] for i in top_neg])\n"
      ],
      "metadata": {
        "colab": {
          "base_uri": "https://localhost:8080/"
        },
        "id": "c770wGYjr--n",
        "outputId": "54219cd0-0c68-4175-a28f-df9ad437956b"
      },
      "execution_count": 6,
      "outputs": [
        {
          "output_type": "stream",
          "name": "stdout",
          "text": [
            "LR sin regularización -> F1 train: 0.982 | F1 test: 0.685\n",
            "LR L1 (C=1) -> F1 train: 0.849 | F1 test: 0.736\n",
            "LR L2 (C=1) -> F1 train: 0.873 | F1 test: 0.750\n",
            "Top +: ['spill', 'hiroshima', 'typhoon', 'derailment', 'outbreak', 'earthquake', 'wildfire', 'massacre', 'floods', 'riots', 'japanese', 'fires', 'debris', 'heavy', 'onto']\n",
            "Top -: ['show', 'poll', 'dying', 'upheaval', 'social', 'bags', 'tickets', 'welcome', 'entire', 'lady', 'aftershock', 'led', 'lmao', 'patrick', 'ur']\n"
          ]
        }
      ]
    },
    {
      "cell_type": "code",
      "source": [
        "# 5. BERNOULLI NAIVE BAYES (usa features binarias)\n",
        "from sklearn.naive_bayes import BernoulliNB\n",
        "from sklearn.metrics import f1_score\n",
        "\n",
        "bnb = BernoulliNB(alpha=1)   # Laplace smoothing\n",
        "bnb.fit(Xtr_bow, ytr)\n",
        "\n",
        "print(\"BNB -> F1 train:\", round(f1_score(ytr, bnb.predict(Xtr_bow)),3),\n",
        "      \"| F1 test:\", round(f1_score(yte, bnb.predict(Xte_bow)),3))\n"
      ],
      "metadata": {
        "colab": {
          "base_uri": "https://localhost:8080/"
        },
        "id": "oEuwLkxTsmr0",
        "outputId": "d5ead60d-1616-44ee-f976-7d4ef5f2b1f8"
      },
      "execution_count": 7,
      "outputs": [
        {
          "output_type": "stream",
          "name": "stdout",
          "text": [
            "BNB -> F1 train: 0.793 | F1 test: 0.753\n"
          ]
        }
      ]
    },
    {
      "cell_type": "code",
      "source": [
        "# 6. N-GRAMS (bigramas); si haces LR sin regularización aquí, usa penalty=None\n",
        "from sklearn.feature_extraction.text import CountVectorizer\n",
        "from sklearn.linear_model import LogisticRegression\n",
        "from sklearn.metrics import f1_score\n",
        "\n",
        "M2 = 3  # umbral para 2-grams\n",
        "cv2 = CountVectorizer(binary=True, ngram_range=(2,2), min_df=M2)\n",
        "\n",
        "Xtr_bg = cv2.fit_transform(Xtr_clean)\n",
        "Xte_bg = cv2.transform(Xte_clean)\n",
        "\n",
        "vocab2 = cv2.get_feature_names_out()\n",
        "print(\"Vocab 2-grams:\", len(vocab2))\n",
        "print(\"Ejemplo 10 2-grams:\", list(vocab2[:10]))\n",
        "\n",
        "# LR\n",
        "lr_bg = LogisticRegression(penalty=\"l2\", C=best_l2.C, solver=\"lbfgs\", max_iter=2000)\n",
        "lr_bg.fit(Xtr_bg, ytr)\n",
        "print(\"LR(2-grams) -> F1 train:\", round(f1_score(ytr, lr_bg.predict(Xtr_bg)),3),\n",
        "      \"| F1 test:\", round(f1_score(yte, lr_bg.predict(Xte_bg)),3))\n",
        "\n",
        "# BNB con 2-grams\n",
        "bnb_bg = BernoulliNB(alpha=1)\n",
        "bnb_bg.fit(Xtr_bg, ytr)\n",
        "print(\"BNB(2-grams) -> F1 train:\", round(f1_score(ytr, bnb_bg.predict(Xtr_bg)),3),\n",
        "      \"| F1 test:\", round(f1_score(yte, bnb_bg.predict(Xte_bg)),3))\n"
      ],
      "metadata": {
        "colab": {
          "base_uri": "https://localhost:8080/"
        },
        "id": "yAEtCfnFspA3",
        "outputId": "340ed153-5b20-492e-d402-698d1453a01c"
      },
      "execution_count": 8,
      "outputs": [
        {
          "output_type": "stream",
          "name": "stdout",
          "text": [
            "Vocab 2-grams: 3366\n",
            "Ejemplo 10 2-grams: ['010401 utc20150805', '05 at', '101 what', '1030 pm', '11 new', '11yearold boy', '12000 nigerian', '13 reasons', '15 in', '15 people']\n",
            "LR(2-grams) -> F1 train: 0.784 | F1 test: 0.622\n",
            "BNB(2-grams) -> F1 train: 0.667 | F1 test: 0.579\n"
          ]
        }
      ]
    },
    {
      "cell_type": "markdown",
      "source": [
        "# PART B: Support Vector Machine and Overfitting"
      ],
      "metadata": {
        "id": "6FutTVovtiGu"
      }
    },
    {
      "cell_type": "code",
      "source": [
        "# 1. GENERAR DATOS (dos features, dos clases, apenas separables)\n",
        "from sklearn.datasets import make_classification\n",
        "from sklearn.model_selection import train_test_split\n",
        "\n",
        "X, y = make_classification(\n",
        "    n_samples=800,         # cantidad de puntos\n",
        "    n_features=2,\n",
        "    n_informative=2,\n",
        "    n_redundant=0,\n",
        "    n_clusters_per_class=1,\n",
        "    class_sep=1.1,         # separación leve (barely separable)\n",
        "    flip_y=0.02,           # un poco de ruido/etiquetas volteadas\n",
        "    random_state=42\n",
        ")\n",
        "\n",
        "# split 70/30 estratificado\n",
        "Xtr, Xte, ytr, yte = train_test_split(\n",
        "    X, y, test_size=0.30, stratify=y, random_state=42\n",
        ")\n",
        "\n",
        "print(Xtr.shape, \"train |\", Xte.shape, \"test\")\n"
      ],
      "metadata": {
        "colab": {
          "base_uri": "https://localhost:8080/"
        },
        "id": "DJ-EtqQhtpTG",
        "outputId": "325b6111-6e1e-4a91-f13b-df21eb3d68e1"
      },
      "execution_count": 9,
      "outputs": [
        {
          "output_type": "stream",
          "name": "stdout",
          "text": [
            "(560, 2) train | (240, 2) test\n"
          ]
        }
      ]
    },
    {
      "cell_type": "markdown",
      "source": [
        "*class_sep* pequeño y *flip_y>0* crean un escenario donde C importa: C muy alto puede sobreajustar.\n",
        "\n",
        "\n"
      ],
      "metadata": {
        "id": "LeoYkY7QtwvZ"
      }
    },
    {
      "cell_type": "code",
      "source": [
        "# 2. PROBAR VARIOS C (CV, errores de train y test)\n",
        "import numpy as np\n",
        "import pandas as pd\n",
        "from sklearn.pipeline import make_pipeline\n",
        "from sklearn.preprocessing import StandardScaler\n",
        "from sklearn.svm import SVC\n",
        "from sklearn.model_selection import StratifiedKFold, cross_val_score\n",
        "from sklearn.metrics import accuracy_score\n",
        "\n",
        "# valores de C a evaluar (de más regularización -> menos regularización)\n",
        "Cs = [0.01, 0.03, 0.1, 0.3, 1, 3, 10, 30, 100]\n",
        "\n",
        "cv = StratifiedKFold(n_splits=5, shuffle=True, random_state=42)\n",
        "\n",
        "rows = []\n",
        "for C in Cs:\n",
        "    # pipeline simple: estandarizar + SVM lineal\n",
        "    clf = make_pipeline(StandardScaler(), SVC(kernel=\"linear\", C=C, random_state=42))\n",
        "\n",
        "    # a) error CV (5-fold) en el set de entrenamiento\n",
        "    acc_cv = cross_val_score(clf, Xtr, ytr, cv=cv, scoring=\"accuracy\")\n",
        "    cv_err = 1 - acc_cv.mean()\n",
        "\n",
        "    # b) entreno en TODO el train y veo error de entrenamiento\n",
        "    clf.fit(Xtr, ytr)\n",
        "    ytr_pred = clf.predict(Xtr)\n",
        "    train_err = 1 - accuracy_score(ytr, ytr_pred)\n",
        "    train_mis = int((ytr != ytr_pred).sum())  # cuántos mal clasificados en train\n",
        "\n",
        "    # c) error de test para ese C\n",
        "    yte_pred = clf.predict(Xte)\n",
        "    test_err = 1 - accuracy_score(yte, yte_pred)\n",
        "\n",
        "    rows.append([C, cv_err, train_err, train_mis, test_err])\n",
        "\n",
        "res = pd.DataFrame(rows, columns=[\"C\", \"cv_error\", \"train_error\", \"train_miscls\", \"test_error\"])\n",
        "print(res.sort_values(\"C\"))\n"
      ],
      "metadata": {
        "colab": {
          "base_uri": "https://localhost:8080/"
        },
        "id": "EN8gg2aDttvA",
        "outputId": "5be0fd44-52dc-480f-b50f-be2d7a423275"
      },
      "execution_count": 10,
      "outputs": [
        {
          "output_type": "stream",
          "name": "stdout",
          "text": [
            "        C  cv_error  train_error  train_miscls  test_error\n",
            "0    0.01  0.126786     0.126786            71    0.145833\n",
            "1    0.03  0.128571     0.126786            71    0.145833\n",
            "2    0.10  0.123214     0.125000            70    0.145833\n",
            "3    0.30  0.125000     0.125000            70    0.141667\n",
            "4    1.00  0.123214     0.123214            69    0.150000\n",
            "5    3.00  0.128571     0.123214            69    0.145833\n",
            "6   10.00  0.126786     0.123214            69    0.145833\n",
            "7   30.00  0.126786     0.123214            69    0.145833\n",
            "8  100.00  0.126786     0.123214            69    0.145833\n"
          ]
        }
      ]
    },
    {
      "cell_type": "markdown",
      "source": [
        "- train_error ↓ cuando C ↑ (modelo más flexible; puede sobreajustar).\n",
        "\n",
        "- cv_error y test_error suelen tener un mínimo en un C intermedio.\n",
        "\n",
        "- train_miscls es el número de observaciones mal clasificadas en el train para cada C."
      ],
      "metadata": {
        "id": "8HLNBPZfuATC"
      }
    },
    {
      "cell_type": "code",
      "source": [
        "# 3. ELEGIR MEJORES C SEGÚN CADA CRITERIO Y COMPARAR\n",
        "best_test = res.loc[res[\"test_error\"].idxmin()]\n",
        "best_cv   = res.loc[res[\"cv_error\"].idxmin()]\n",
        "best_train= res.loc[res[\"train_error\"].idxmin()]  # normalmente C grande\n",
        "\n",
        "print(\"\\nMejor por TEST:\", best_test.to_dict())\n",
        "print(\"Mejor por CV:  \", best_cv.to_dict())\n",
        "print(\"Menor error TRAIN:\", best_train.to_dict())\n"
      ],
      "metadata": {
        "colab": {
          "base_uri": "https://localhost:8080/"
        },
        "id": "CSdjUYBMuI6q",
        "outputId": "ebf60ae7-33fe-4388-fa25-068909871440"
      },
      "execution_count": 11,
      "outputs": [
        {
          "output_type": "stream",
          "name": "stdout",
          "text": [
            "\n",
            "Mejor por TEST: {'C': 0.3, 'cv_error': 0.125, 'train_error': 0.125, 'train_miscls': 70.0, 'test_error': 0.14166666666666672}\n",
            "Mejor por CV:   {'C': 0.1, 'cv_error': 0.12321428571428572, 'train_error': 0.125, 'train_miscls': 70.0, 'test_error': 0.14583333333333337}\n",
            "Menor error TRAIN: {'C': 1.0, 'cv_error': 0.12321428571428572, 'train_error': 0.12321428571428572, 'train_miscls': 69.0, 'test_error': 0.15000000000000002}\n"
          ]
        }
      ]
    },
    {
      "cell_type": "code",
      "source": [
        "# ERRORES VS C (log-scale en el eje X)\n",
        "import matplotlib.pyplot as plt\n",
        "import numpy as np\n",
        "\n",
        "Cs_plot = res[\"C\"].values\n",
        "cv_err  = res[\"cv_error\"].values\n",
        "tr_err  = res[\"train_error\"].values\n",
        "te_err  = res[\"test_error\"].values\n",
        "\n",
        "plt.figure(figsize=(7,5))\n",
        "plt.plot(Cs_plot, tr_err, marker=\"o\", label=\"Train error\")\n",
        "plt.plot(Cs_plot, cv_err, marker=\"o\", label=\"CV error (5-fold)\")\n",
        "plt.plot(Cs_plot, te_err, marker=\"o\", label=\"Test error\")\n",
        "plt.xscale(\"log\")                  # C en log para verlo claro\n",
        "plt.xlabel(\"C (escala log)\")\n",
        "plt.ylabel(\"Error\")\n",
        "plt.title(\"SVC lineal: errores vs C\")\n",
        "plt.grid(True)\n",
        "plt.legend()\n",
        "plt.show()\n"
      ],
      "metadata": {
        "colab": {
          "base_uri": "https://localhost:8080/",
          "height": 477
        },
        "id": "z4jxZCxKuyMA",
        "outputId": "e7c5b324-9d87-4e0c-b53a-0a6c2fdaadb4"
      },
      "execution_count": 12,
      "outputs": [
        {
          "output_type": "display_data",
          "data": {
            "text/plain": [
              "<Figure size 700x500 with 1 Axes>"
            ],
            "image/png": "[encoded data removed]"
          },
          "metadata": {}
        }
      ]
    },
    {
      "cell_type": "markdown",
      "source": [
        "Discusión:\n",
        "\n",
        "- C muy pequeño → margen grande, modelo “simple”, más sesgo, errores de train y test altos.\n",
        "\n",
        "- C muy grande → intenta clasificar perfecto el train (a veces train_error ~ 0) → riesgo de sobreajuste, cv_error/test_error pueden subir.\n",
        "\n",
        "- Elección práctica: quedarse con el C que minimiza cv_error suele aproximarse muy bien al que minimiza test_error (cuando el split es razonable).\n",
        "**Conclusión:**\n",
        "- A medida que C aumenta, el error de entrenamiento baja ligeramente (el modelo se vuelve más flexible).\n",
        "- El error de validación cruzada (CV) es mínimo para valores intermedios de C (~0.1 o 0.3), lo que indica mejor equilibrio entre sesgo y varianza.\n",
        "- El error de test se mantiene casi constante, sin señales claras de sobreajuste.\n",
        "- Por tanto, un valor de C intermedio ofrece un buen compromiso: evita el exceso de regularización (C muy pequeño) y el sobreajuste (C muy grande).\n"
      ],
      "metadata": {
        "id": "_DmZgkpNuMzu"
      }
    },
    {
      "cell_type": "code",
      "source": [
        "# RESUMEN DE RESULTADOS (mejores C y conclusiones)\n",
        "import pandas as pd\n",
        "\n",
        "# Identificar el mejor C según cada tipo de error\n",
        "best_train = res.loc[res[\"train_error\"].idxmin()]\n",
        "best_cv    = res.loc[res[\"cv_error\"].idxmin()]\n",
        "best_test  = res.loc[res[\"test_error\"].idxmin()]\n",
        "\n",
        "print(\"=== MEJORES VALORES DE C ===\")\n",
        "print(f\"Menor error de entrenamiento: C = {best_train['C']}, error = {best_train['train_error']:.3f}\")\n",
        "print(f\"Menor error de validación (CV): C = {best_cv['C']}, error = {best_cv['cv_error']:.3f}\")\n",
        "print(f\"Menor error de test:           C = {best_test['C']}, error = {best_test['test_error']:.3f}\")\n",
        "\n"
      ],
      "metadata": {
        "colab": {
          "base_uri": "https://localhost:8080/"
        },
        "id": "Gi--BrPQwZh-",
        "outputId": "804afbe5-952c-4aab-b5fd-be9dfafd3b02"
      },
      "execution_count": 14,
      "outputs": [
        {
          "output_type": "stream",
          "name": "stdout",
          "text": [
            "=== MEJORES VALORES DE C ===\n",
            "Menor error de entrenamiento: C = 1.0, error = 0.123\n",
            "Menor error de validación (CV): C = 0.1, error = 0.123\n",
            "Menor error de test:           C = 0.3, error = 0.142\n"
          ]
        }
      ]
    },
    {
      "cell_type": "markdown",
      "source": [
        "# PART C: Regression trees on Carseats Data"
      ],
      "metadata": {
        "id": "VzZO_SKEw4D9"
      }
    },
    {
      "cell_type": "code",
      "source": [
        "# 1. CARGA DE DATOS (Carseats) + SPLIT 70/30\n",
        "import pandas as pd\n",
        "from ISLP import load_data\n",
        "from sklearn.model_selection import train_test_split\n",
        "\n",
        "df = load_data(\"Carseats\")  # dataset de ventas de car seats\n",
        "print(df.shape)\n",
        "df.head()  # para ver columnas\n",
        "\n",
        "# variable objetivo\n",
        "y = df[\"Sales\"]\n",
        "\n",
        "# one-hot para variables categóricas (árbol acepta numéricos)\n",
        "X = pd.get_dummies(df.drop(columns=[\"Sales\"]), drop_first=True)\n",
        "\n",
        "# split 70/30 con semilla\n",
        "Xtr, Xte, ytr, yte = train_test_split(\n",
        "    X, y, test_size=0.30, random_state=42\n",
        ")\n",
        "\n",
        "Xtr.shape, Xte.shape\n"
      ],
      "metadata": {
        "colab": {
          "base_uri": "https://localhost:8080/"
        },
        "id": "kHQnVmo3xG9e",
        "outputId": "fc9b3049-2b5f-4f4d-88b4-abbe1bba8246"
      },
      "execution_count": 17,
      "outputs": [
        {
          "output_type": "stream",
          "name": "stdout",
          "text": [
            "(400, 11)\n"
          ]
        },
        {
          "output_type": "execute_result",
          "data": {
            "text/plain": [
              "((280, 11), (120, 11))"
            ]
          },
          "metadata": {},
          "execution_count": 17
        }
      ]
    },
    {
      "cell_type": "code",
      "source": [
        "# 2. AJUSTE DEL ÁRBOL + MSE DE TEST + PLOT\n",
        "from sklearn.tree import DecisionTreeRegressor, plot_tree\n",
        "from sklearn.metrics import mean_squared_error\n",
        "import matplotlib.pyplot as plt\n",
        "import numpy as np\n",
        "\n",
        "# árbol sin restricciones (baseline)\n",
        "tree0 = DecisionTreeRegressor(random_state=42)\n",
        "tree0.fit(Xtr, ytr)\n",
        "\n",
        "# desempeño\n",
        "ytr_hat = tree0.predict(Xtr)\n",
        "yte_hat = tree0.predict(Xte)\n",
        "\n",
        "mse_tr0 = mean_squared_error(ytr, ytr_hat)\n",
        "mse_te0 = mean_squared_error(yte, yte_hat)\n",
        "print(f\"Árbol base -> MSE train: {mse_tr0:.3f} | MSE test: {mse_te0:.3f}\")\n",
        "\n",
        "# gráfico\n",
        "plt.figure(figsize=(12,6))\n",
        "plot_tree(tree0, feature_names=X.columns, max_depth=3, filled=True, rounded=True)\n",
        "plt.title(\"Árbol de regresión (primeros 3 niveles, vista resumida)\")\n",
        "plt.show()\n",
        "\n",
        "# importancias de variables (top 10)\n",
        "imp = pd.Series(tree0.feature_importances_, index=X.columns)\n",
        "print(\"Importancias (top 10):\")\n",
        "imp.sort_values(ascending=False).head(10)\n"
      ],
      "metadata": {
        "colab": {
          "base_uri": "https://localhost:8080/",
          "height": 960
        },
        "id": "Zqb9WrWXzCpz",
        "outputId": "c145e145-745a-41e9-e39f-de691ffdd68c"
      },
      "execution_count": 18,
      "outputs": [
        {
          "output_type": "stream",
          "name": "stdout",
          "text": [
            "Árbol base -> MSE train: 0.000 | MSE test: 4.805\n"
          ]
        },
        {
          "output_type": "display_data",
          "data": {
            "text/plain": [
              "<Figure size 1200x600 with 1 Axes>"
            ],
            "image/png": "[encoded data removed]"
          },
          "metadata": {}
        },
        {
          "output_type": "stream",
          "name": "stdout",
          "text": [
            "Importancias (top 10):\n"
          ]
        },
        {
          "output_type": "execute_result",
          "data": {
            "text/plain": [
              "Price               0.291599\n",
              "ShelveLoc_Good      0.196013\n",
              "Age                 0.121753\n",
              "CompPrice           0.104828\n",
              "Income              0.079752\n",
              "ShelveLoc_Medium    0.071784\n",
              "Advertising         0.051539\n",
              "Population          0.038113\n",
              "Education           0.036079\n",
              "Urban_Yes           0.008538\n",
              "dtype: float64"
            ],
            "text/html": [
              "<div>\n",
              "<style scoped>\n",
              "    .dataframe tbody tr th:only-of-type {\n",
              "        vertical-align: middle;\n",
              "    }\n",
              "\n",
              "    .dataframe tbody tr th {\n",
              "        vertical-align: top;\n",
              "    }\n",
              "\n",
              "    .dataframe thead th {\n",
              "        text-align: right;\n",
              "    }\n",
              "</style>\n",
              "<table border=\"1\" class=\"dataframe\">\n",
              "  <thead>\n",
              "    <tr style=\"text-align: right;\">\n",
              "      <th></th>\n",
              "      <th>0</th>\n",
              "    </tr>\n",
              "  </thead>\n",
              "  <tbody>\n",
              "    <tr>\n",
              "      <th>Price</th>\n",
              "      <td>0.291599</td>\n",
              "    </tr>\n",
              "    <tr>\n",
              "      <th>ShelveLoc_Good</th>\n",
              "      <td>0.196013</td>\n",
              "    </tr>\n",
              "    <tr>\n",
              "      <th>Age</th>\n",
              "      <td>0.121753</td>\n",
              "    </tr>\n",
              "    <tr>\n",
              "      <th>CompPrice</th>\n",
              "      <td>0.104828</td>\n",
              "    </tr>\n",
              "    <tr>\n",
              "      <th>Income</th>\n",
              "      <td>0.079752</td>\n",
              "    </tr>\n",
              "    <tr>\n",
              "      <th>ShelveLoc_Medium</th>\n",
              "      <td>0.071784</td>\n",
              "    </tr>\n",
              "    <tr>\n",
              "      <th>Advertising</th>\n",
              "      <td>0.051539</td>\n",
              "    </tr>\n",
              "    <tr>\n",
              "      <th>Population</th>\n",
              "      <td>0.038113</td>\n",
              "    </tr>\n",
              "    <tr>\n",
              "      <th>Education</th>\n",
              "      <td>0.036079</td>\n",
              "    </tr>\n",
              "    <tr>\n",
              "      <th>Urban_Yes</th>\n",
              "      <td>0.008538</td>\n",
              "    </tr>\n",
              "  </tbody>\n",
              "</table>\n",
              "</div><br><label><b>dtype:</b> float64</label>"
            ]
          },
          "metadata": {},
          "execution_count": 18
        }
      ]
    },
    {
      "cell_type": "code",
      "source": [
        "# 3. PRUNING (cost-complexity) + CV para elegir ccp_alpha óptimo\n",
        "from sklearn.model_selection import GridSearchCV\n",
        "\n",
        "# rango de ccp_alpha a partir del path de entrenamiento\n",
        "path = DecisionTreeRegressor(random_state=42).cost_complexity_pruning_path(Xtr, ytr)\n",
        "ccp_alphas = np.unique(path.ccp_alphas)\n",
        "\n",
        "# quitamos el último\n",
        "ccp_alphas = ccp_alphas[:-1] if len(ccp_alphas) > 1 else ccp_alphas\n",
        "\n",
        "params = {\"ccp_alpha\": ccp_alphas}\n",
        "base_tree = DecisionTreeRegressor(random_state=42)\n",
        "grid = GridSearchCV(\n",
        "    base_tree, params,\n",
        "    scoring=\"neg_mean_squared_error\",\n",
        "    cv=5, n_jobs=-1\n",
        ")\n",
        "grid.fit(Xtr, ytr)\n",
        "\n",
        "best_alpha = grid.best_params_[\"ccp_alpha\"]\n",
        "print(f\"Mejor ccp_alpha (CV): {best_alpha:.6f}\")\n",
        "\n",
        "# entrenamos árbol podado\n",
        "tree_pruned = DecisionTreeRegressor(random_state=42, ccp_alpha=best_alpha)\n",
        "tree_pruned.fit(Xtr, ytr)\n",
        "\n",
        "# métricas\n",
        "ytr_hat_p = tree_pruned.predict(Xtr)\n",
        "yte_hat_p = tree_pruned.predict(Xte)\n",
        "\n",
        "mse_tr_p = mean_squared_error(ytr, ytr_hat_p)\n",
        "mse_te_p = mean_squared_error(yte, yte_hat_p)\n",
        "print(f\"Árbol podado -> MSE train: {mse_tr_p:.3f} | MSE test: {mse_te_p:.3f}\")\n",
        "\n",
        "# comparación lado a lado\n",
        "pd.DataFrame({\n",
        "    \"modelo\": [\"árbol base\", \"árbol podado\"],\n",
        "    \"MSE_train\": [mse_tr0, mse_tr_p],\n",
        "    \"MSE_test\":  [mse_te0, mse_te_p],\n",
        "})\n"
      ],
      "metadata": {
        "colab": {
          "base_uri": "https://localhost:8080/",
          "height": 149
        },
        "id": "jNFBSC3ezMoQ",
        "outputId": "5f02e02f-8272-41a0-e8b0-ab9ac1a4315a"
      },
      "execution_count": 21,
      "outputs": [
        {
          "output_type": "stream",
          "name": "stdout",
          "text": [
            "Mejor ccp_alpha (CV): 0.035127\n",
            "Árbol podado -> MSE train: 1.111 | MSE test: 4.395\n"
          ]
        },
        {
          "output_type": "execute_result",
          "data": {
            "text/plain": [
              "         modelo  MSE_train  MSE_test\n",
              "0    árbol base   0.000000  4.805344\n",
              "1  árbol podado   1.110618  4.394811"
            ],
            "text/html": [
              "\n",
              "  <div id=\"df-68ca2198-5c5e-4158-bc40-993f12528fd6\" class=\"colab-df-container\">\n",
              "    <div>\n",
              "<style scoped>\n",
              "    .dataframe tbody tr th:only-of-type {\n",
              "        vertical-align: middle;\n",
              "    }\n",
              "\n",
              "    .dataframe tbody tr th {\n",
              "        vertical-align: top;\n",
              "    }\n",
              "\n",
              "    .dataframe thead th {\n",
              "        text-align: right;\n",
              "    }\n",
              "</style>\n",
              "<table border=\"1\" class=\"dataframe\">\n",
              "  <thead>\n",
              "    <tr style=\"text-align: right;\">\n",
              "      <th></th>\n",
              "      <th>modelo</th>\n",
              "      <th>MSE_train</th>\n",
              "      <th>MSE_test</th>\n",
              "    </tr>\n",
              "  </thead>\n",
              "  <tbody>\n",
              "    <tr>\n",
              "      <th>0</th>\n",
              "      <td>árbol base</td>\n",
              "      <td>0.000000</td>\n",
              "      <td>4.805344</td>\n",
              "    </tr>\n",
              "    <tr>\n",
              "      <th>1</th>\n",
              "      <td>árbol podado</td>\n",
              "      <td>1.110618</td>\n",
              "      <td>4.394811</td>\n",
              "    </tr>\n",
              "  </tbody>\n",
              "</table>\n",
              "</div>\n",
              "    <div class=\"colab-df-buttons\">\n",
              "\n",
              "  <div class=\"colab-df-container\">\n",
              "    <button class=\"colab-df-convert\" onclick=\"convertToInteractive('df-68ca2198-5c5e-4158-bc40-993f12528fd6')\"\n",
              "            title=\"Convert this dataframe to an interactive table.\"\n",
              "            style=\"display:none;\">\n",
              "\n",
              "  <svg xmlns=\"http://www.w3.org/2000/svg\" height=\"24px\" viewBox=\"0 -960 960 960\">\n",
              "    <path d=\"M120-120v-720h720v720H120Zm60-500h600v-160H180v160Zm220 220h160v-160H400v160Zm0 220h160v-160H400v160ZM180-400h160v-160H180v160Zm440 0h160v-160H620v160ZM180-180h160v-160H180v160Zm440 0h160v-160H620v160Z\"/>\n",
              "  </svg>\n",
              "    </button>\n",
              "\n",
              "  <style>\n",
              "    .colab-df-container {\n",
              "      display:flex;\n",
              "      gap: 12px;\n",
              "    }\n",
              "\n",
              "    .colab-df-convert {\n",
              "      background-color: #E8F0FE;\n",
              "      border: none;\n",
              "      border-radius: 50%;\n",
              "      cursor: pointer;\n",
              "      display: none;\n",
              "      fill: #1967D2;\n",
              "      height: 32px;\n",
              "      padding: 0 0 0 0;\n",
              "      width: 32px;\n",
              "    }\n",
              "\n",
              "    .colab-df-convert:hover {\n",
              "      background-color: #E2EBFA;\n",
              "      box-shadow: 0px 1px 2px rgba(60, 64, 67, 0.3), 0px 1px 3px 1px rgba(60, 64, 67, 0.15);\n",
              "      fill: #174EA6;\n",
              "    }\n",
              "\n",
              "    .colab-df-buttons div {\n",
              "      margin-bottom: 4px;\n",
              "    }\n",
              "\n",
              "    [theme=dark] .colab-df-convert {\n",
              "      background-color: #3B4455;\n",
              "      fill: #D2E3FC;\n",
              "    }\n",
              "\n",
              "    [theme=dark] .colab-df-convert:hover {\n",
              "      background-color: #434B5C;\n",
              "      box-shadow: 0px 1px 3px 1px rgba(0, 0, 0, 0.15);\n",
              "      filter: drop-shadow(0px 1px 2px rgba(0, 0, 0, 0.3));\n",
              "      fill: #FFFFFF;\n",
              "    }\n",
              "  </style>\n",
              "\n",
              "    <script>\n",
              "      const buttonEl =\n",
              "        document.querySelector('#df-68ca2198-5c5e-4158-bc40-993f12528fd6 button.colab-df-convert');\n",
              "      buttonEl.style.display =\n",
              "        google.colab.kernel.accessAllowed ? 'block' : 'none';\n",
              "\n",
              "      async function convertToInteractive(key) {\n",
              "        const element = document.querySelector('#df-68ca2198-5c5e-4158-bc40-993f12528fd6');\n",
              "        const dataTable =\n",
              "          await google.colab.kernel.invokeFunction('convertToInteractive',\n",
              "                                                    [key], {});\n",
              "        if (!dataTable) return;\n",
              "\n",
              "        const docLinkHtml = 'Like what you see? Visit the ' +\n",
              "          '<a target=\"_blank\" href=https://colab.research.google.com/notebooks/data_table.ipynb>data table notebook</a>'\n",
              "          + ' to learn more about interactive tables.';\n",
              "        element.innerHTML = '';\n",
              "        dataTable['output_type'] = 'display_data';\n",
              "        await google.colab.output.renderOutput(dataTable, element);\n",
              "        const docLink = document.createElement('div');\n",
              "        docLink.innerHTML = docLinkHtml;\n",
              "        element.appendChild(docLink);\n",
              "      }\n",
              "    </script>\n",
              "  </div>\n",
              "\n",
              "\n",
              "    <div id=\"df-7102dcfb-6795-4383-8f92-3dc30bfae733\">\n",
              "      <button class=\"colab-df-quickchart\" onclick=\"quickchart('df-7102dcfb-6795-4383-8f92-3dc30bfae733')\"\n",
              "                title=\"Suggest charts\"\n",
              "                style=\"display:none;\">\n",
              "\n",
              "<svg xmlns=\"http://www.w3.org/2000/svg\" height=\"24px\"viewBox=\"0 0 24 24\"\n",
              "     width=\"24px\">\n",
              "    <g>\n",
              "        <path d=\"M19 3H5c-1.1 0-2 .9-2 2v14c0 1.1.9 2 2 2h14c1.1 0 2-.9 2-2V5c0-1.1-.9-2-2-2zM9 17H7v-7h2v7zm4 0h-2V7h2v10zm4 0h-2v-4h2v4z\"/>\n",
              "    </g>\n",
              "</svg>\n",
              "      </button>\n",
              "\n",
              "<style>\n",
              "  .colab-df-quickchart {\n",
              "      --bg-color: #E8F0FE;\n",
              "      --fill-color: #1967D2;\n",
              "      --hover-bg-color: #E2EBFA;\n",
              "      --hover-fill-color: #174EA6;\n",
              "      --disabled-fill-color: #AAA;\n",
              "      --disabled-bg-color: #DDD;\n",
              "  }\n",
              "\n",
              "  [theme=dark] .colab-df-quickchart {\n",
              "      --bg-color: #3B4455;\n",
              "      --fill-color: #D2E3FC;\n",
              "      --hover-bg-color: #434B5C;\n",
              "      --hover-fill-color: #FFFFFF;\n",
              "      --disabled-bg-color: #3B4455;\n",
              "      --disabled-fill-color: #666;\n",
              "  }\n",
              "\n",
              "  .colab-df-quickchart {\n",
              "    background-color: var(--bg-color);\n",
              "    border: none;\n",
              "    border-radius: 50%;\n",
              "    cursor: pointer;\n",
              "    display: none;\n",
              "    fill: var(--fill-color);\n",
              "    height: 32px;\n",
              "    padding: 0;\n",
              "    width: 32px;\n",
              "  }\n",
              "\n",
              "  .colab-df-quickchart:hover {\n",
              "    background-color: var(--hover-bg-color);\n",
              "    box-shadow: 0 1px 2px rgba(60, 64, 67, 0.3), 0 1px 3px 1px rgba(60, 64, 67, 0.15);\n",
              "    fill: var(--button-hover-fill-color);\n",
              "  }\n",
              "\n",
              "  .colab-df-quickchart-complete:disabled,\n",
              "  .colab-df-quickchart-complete:disabled:hover {\n",
              "    background-color: var(--disabled-bg-color);\n",
              "    fill: var(--disabled-fill-color);\n",
              "    box-shadow: none;\n",
              "  }\n",
              "\n",
              "  .colab-df-spinner {\n",
              "    border: 2px solid var(--fill-color);\n",
              "    border-color: transparent;\n",
              "    border-bottom-color: var(--fill-color);\n",
              "    animation:\n",
              "      spin 1s steps(1) infinite;\n",
              "  }\n",
              "\n",
              "  @keyframes spin {\n",
              "    0% {\n",
              "      border-color: transparent;\n",
              "      border-bottom-color: var(--fill-color);\n",
              "      border-left-color: var(--fill-color);\n",
              "    }\n",
              "    20% {\n",
              "      border-color: transparent;\n",
              "      border-left-color: var(--fill-color);\n",
              "      border-top-color: var(--fill-color);\n",
              "    }\n",
              "    30% {\n",
              "      border-color: transparent;\n",
              "      border-left-color: var(--fill-color);\n",
              "      border-top-color: var(--fill-color);\n",
              "      border-right-color: var(--fill-color);\n",
              "    }\n",
              "    40% {\n",
              "      border-color: transparent;\n",
              "      border-right-color: var(--fill-color);\n",
              "      border-top-color: var(--fill-color);\n",
              "    }\n",
              "    60% {\n",
              "      border-color: transparent;\n",
              "      border-right-color: var(--fill-color);\n",
              "    }\n",
              "    80% {\n",
              "      border-color: transparent;\n",
              "      border-right-color: var(--fill-color);\n",
              "      border-bottom-color: var(--fill-color);\n",
              "    }\n",
              "    90% {\n",
              "      border-color: transparent;\n",
              "      border-bottom-color: var(--fill-color);\n",
              "    }\n",
              "  }\n",
              "</style>\n",
              "\n",
              "      <script>\n",
              "        async function quickchart(key) {\n",
              "          const quickchartButtonEl =\n",
              "            document.querySelector('#' + key + ' button');\n",
              "          quickchartButtonEl.disabled = true;  // To prevent multiple clicks.\n",
              "          quickchartButtonEl.classList.add('colab-df-spinner');\n",
              "          try {\n",
              "            const charts = await google.colab.kernel.invokeFunction(\n",
              "                'suggestCharts', [key], {});\n",
              "          } catch (error) {\n",
              "            console.error('Error during call to suggestCharts:', error);\n",
              "          }\n",
              "          quickchartButtonEl.classList.remove('colab-df-spinner');\n",
              "          quickchartButtonEl.classList.add('colab-df-quickchart-complete');\n",
              "        }\n",
              "        (() => {\n",
              "          let quickchartButtonEl =\n",
              "            document.querySelector('#df-7102dcfb-6795-4383-8f92-3dc30bfae733 button');\n",
              "          quickchartButtonEl.style.display =\n",
              "            google.colab.kernel.accessAllowed ? 'block' : 'none';\n",
              "        })();\n",
              "      </script>\n",
              "    </div>\n",
              "\n",
              "    </div>\n",
              "  </div>\n"
            ],
            "application/vnd.google.colaboratory.intrinsic+json": {
              "type": "dataframe",
              "summary": "{\n  \"name\": \"})\",\n  \"rows\": 2,\n  \"fields\": [\n    {\n      \"column\": \"modelo\",\n      \"properties\": {\n        \"dtype\": \"string\",\n        \"num_unique_values\": 2,\n        \"samples\": [\n          \"\\u00e1rbol podado\",\n          \"\\u00e1rbol base\"\n        ],\n        \"semantic_type\": \"\",\n        \"description\": \"\"\n      }\n    },\n    {\n      \"column\": \"MSE_train\",\n      \"properties\": {\n        \"dtype\": \"number\",\n        \"std\": 0.7853256777835796,\n        \"min\": 0.0,\n        \"max\": 1.1106182244013816,\n        \"num_unique_values\": 2,\n        \"samples\": [\n          1.1106182244013816,\n          0.0\n        ],\n        \"semantic_type\": \"\",\n        \"description\": \"\"\n      }\n    },\n    {\n      \"column\": \"MSE_test\",\n      \"properties\": {\n        \"dtype\": \"number\",\n        \"std\": 0.29029048216594106,\n        \"min\": 4.394811429759768,\n        \"max\": 4.805344166666667,\n        \"num_unique_values\": 2,\n        \"samples\": [\n          4.394811429759768,\n          4.805344166666667\n        ],\n        \"semantic_type\": \"\",\n        \"description\": \"\"\n      }\n    }\n  ]\n}"
            }
          },
          "metadata": {},
          "execution_count": 21
        }
      ]
    },
    {
      "cell_type": "markdown",
      "source": [
        "Si el árbol base sobreajusta (MSE train ≪ MSE test), el podado suele subir un poco el MSE train y bajar el MSE test."
      ],
      "metadata": {
        "id": "VIUQxbl-3OuY"
      }
    },
    {
      "cell_type": "markdown",
      "source": [
        "Se utilizó validación cruzada (5-fold) sobre distintos valores de ccp_alpha para encontrar el nivel óptimo de complejidad del árbol.\n",
        "El valor de alpha que minimizó el error medio cuadrático (MSE) en validación cruzada fue el seleccionado para podar el árbol.\n",
        "\n",
        "Después de aplicar esta poda, el MSE de prueba disminuyó ligeramente (o se mantuvo muy similar), mientras que el MSE de entrenamiento aumentó un poco, lo que indica que el modelo se volvió menos sobreajustado y más generalizable.\n",
        "\n",
        "Por lo tanto, la poda mejoró el desempeño en el conjunto de prueba, al reducir la complejidad del árbol y evitar el sobreajuste"
      ],
      "metadata": {
        "id": "3vnF3qCf3WY0"
      }
    }
  ]
}